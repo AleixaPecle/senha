{
  "nbformat": 4,
  "nbformat_minor": 0,
  "metadata": {
    "colab": {
      "provenance": []
    },
    "kernelspec": {
      "name": "python3",
      "display_name": "Python 3"
    },
    "language_info": {
      "name": "python"
    }
  },
  "cells": [
    {
      "cell_type": "code",
      "execution_count": null,
      "metadata": {
        "id": "9a-rhHX0TjC3"
      },
      "outputs": [],
      "source": []
    },
    {
      "cell_type": "markdown",
      "source": [
        "Geração de senhas seguras e aleatórias\n"
      ],
      "metadata": {
        "id": "VV_1emuuTkeq"
      }
    },
    {
      "cell_type": "code",
      "source": [
        "from random import choice\n",
        "import string\n"
      ],
      "metadata": {
        "id": "BN6E3waYT4i8"
      },
      "execution_count": 1,
      "outputs": []
    },
    {
      "cell_type": "code",
      "source": [
        "tamanho_da_senha = int (input(\"Quantos dígitos você quer na sua senha?\"))\n",
        "caracteres = string.ascii_letters + string.digits + string.punctuation\n",
        "senha_segura = ''\n",
        "for i in range(tamanho_da_senha):\n",
        "  senha_segura += choice(caracteres)\n",
        "\n",
        "print(\"A Senha (segura) gerada é:\", senha_segura)"
      ],
      "metadata": {
        "colab": {
          "base_uri": "https://localhost:8080/"
        },
        "id": "MvpeXxmrUv4S",
        "outputId": "c93054b2-e299-4538-e3ad-e4b9d2bc88df"
      },
      "execution_count": 3,
      "outputs": [
        {
          "output_type": "stream",
          "name": "stdout",
          "text": [
            "Quantos dígitos você quer na sua senha?7\n",
            "A Senha (segura) gerada é: ~t&S5@|\n"
          ]
        }
      ]
    }
  ]
}